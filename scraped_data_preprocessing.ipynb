{
  "cells": [
    {
      "cell_type": "markdown",
      "metadata": {
        "id": "X2oqcxZlNnmi"
      },
      "source": [
        "This is the notebook I used to cleanse and organise the original scraped CSV file for usage stats from 2021-2023. I will not be conducting the full EDA in this notebook, as I feel that is best suited to the notebook I use for analysis and data science application.\n",
        "\n",
        "However, I will navigate the dataset to an extent here to understand the features, and draw conclusions on how to organise as a dataframe. The main reason this is being executed is due to the shift in data format at some given point in the usage stats, where some columns are simpy renamed to something else, giving X rows a value for one version of the given column, and Y rows having their value in the alternative version of this column."
      ]
    },
    {
      "cell_type": "code",
      "execution_count": 2,
      "metadata": {
        "colab": {
          "base_uri": "https://localhost:8080/"
        },
        "id": "pWYOrc9g_kQS",
        "outputId": "3cc96fc1-eaea-4d77-ff5d-cf8b4439b509"
      },
      "outputs": [
        {
          "name": "stdout",
          "output_type": "stream",
          "text": [
            "Mounted at /content/drive\n"
          ]
        }
      ],
      "source": [
        "import pandas as pd\n",
        "from google.colab import drive\n",
        "\n",
        "drive.mount('/content/drive')\n",
        "#the original csv file\n",
        "path = \"/content/drive/MyDrive/cycling.csv\"\n"
      ]
    },
    {
      "cell_type": "code",
      "execution_count": 3,
      "metadata": {
        "id": "PSoA6DI5gJUo"
      },
      "outputs": [],
      "source": [
        "#reading, this can take a min or so  given the scale\n",
        "df = pd.read_csv(path, low_memory=False)"
      ]
    },
    {
      "cell_type": "code",
      "execution_count": 4,
      "metadata": {
        "colab": {
          "base_uri": "https://localhost:8080/"
        },
        "id": "SDWTVWH9h5Pb",
        "outputId": "2f94896f-2e2e-4947-9bf5-5352909c9525"
      },
      "outputs": [
        {
          "data": {
            "text/plain": [
              "(30313809, 20)"
            ]
          },
          "execution_count": 4,
          "metadata": {},
          "output_type": "execute_result"
        }
      ],
      "source": [
        "#inspecting size of combined 2021-2023 df\n",
        "df.shape"
      ]
    },
    {
      "cell_type": "code",
      "execution_count": 5,
      "metadata": {
        "colab": {
          "base_uri": "https://localhost:8080/"
        },
        "id": "pWw3z94thy35",
        "outputId": "59ffcf8c-45f7-4e86-85cd-dca5bc5deb9b"
      },
      "outputs": [
        {
          "data": {
            "text/plain": [
              "Rental Id               float64\n",
              "Duration                float64\n",
              "Bike Id                 float64\n",
              "End Date                 object\n",
              "EndStation Id           float64\n",
              "EndStation Name          object\n",
              "Start Date               object\n",
              "StartStation Id         float64\n",
              "StartStation Name        object\n",
              "Number                  float64\n",
              "Start date               object\n",
              "Start station number     object\n",
              "Start station            object\n",
              "End date                 object\n",
              "End station number       object\n",
              "End station              object\n",
              "Bike number             float64\n",
              "Bike model               object\n",
              "Total duration           object\n",
              "Total duration (ms)     float64\n",
              "dtype: object"
            ]
          },
          "execution_count": 5,
          "metadata": {},
          "output_type": "execute_result"
        }
      ],
      "source": [
        "#inspection of datatypes\n",
        "df.dtypes"
      ]
    },
    {
      "cell_type": "markdown",
      "metadata": {
        "id": "rtmVRahQl1oM"
      },
      "source": [
        "After initial examination, it seems that the format changed for the data at some point over the period of 2021-2023.\n",
        "\n",
        "It would be appropriate to also convert any columns into appropriate formats now, such as enddate to datetime etc. So let's start with the preprocessing.\n",
        "\n",
        "Furthermore, it appears that there was indeed a change in format of the data, as it would not make much sense otherwise to have two variants for fields such as \"Start Date\" or \"End Station\""
      ]
    },
    {
      "cell_type": "code",
      "execution_count": 6,
      "metadata": {
        "id": "oy5K9KMOmE28"
      },
      "outputs": [],
      "source": [
        "#first, let's change the date columns into the appropriate format before combining, takes a while given size\n",
        "df['Start Date'] = pd.to_datetime(df['Start Date'])\n",
        "df['End Date'] = pd.to_datetime(df['End Date'])\n",
        "\n",
        "df['Start date'] = pd.to_datetime(df['Start date'])\n",
        "df['End date'] = pd.to_datetime(df['End date'])"
      ]
    },
    {
      "cell_type": "code",
      "execution_count": 7,
      "metadata": {
        "colab": {
          "base_uri": "https://localhost:8080/"
        },
        "id": "eEVSA8oW3wmh",
        "outputId": "c6b00dd7-6990-4672-c88e-a0352a392301"
      },
      "outputs": [
        {
          "data": {
            "text/plain": [
              "Rental Id                      float64\n",
              "Duration                       float64\n",
              "Bike Id                        float64\n",
              "End Date                datetime64[ns]\n",
              "EndStation Id                  float64\n",
              "EndStation Name                 object\n",
              "Start Date              datetime64[ns]\n",
              "StartStation Id                float64\n",
              "StartStation Name               object\n",
              "Number                         float64\n",
              "Start date              datetime64[ns]\n",
              "Start station number            object\n",
              "Start station                   object\n",
              "End date                datetime64[ns]\n",
              "End station number              object\n",
              "End station                     object\n",
              "Bike number                    float64\n",
              "Bike model                      object\n",
              "Total duration                  object\n",
              "Total duration (ms)            float64\n",
              "dtype: object"
            ]
          },
          "execution_count": 7,
          "metadata": {},
          "output_type": "execute_result"
        }
      ],
      "source": [
        "#checking conversion\n",
        "df.dtypes"
      ]
    },
    {
      "cell_type": "markdown",
      "metadata": {
        "id": "-WHT1RR_kWP1"
      },
      "source": [
        "An initial suspicion is the contrast between the \"Number\" column and the \"Rental Id\" column. At first glance, it appears later data entries reverted from using the rental id to the number id as the unique identifier of the event. I will now explore this and see if there is any weight to this assumption"
      ]
    },
    {
      "cell_type": "code",
      "execution_count": 8,
      "metadata": {
        "id": "z2dOgYWpjeXE"
      },
      "outputs": [],
      "source": [
        "def check_counterparts(col1,col2):\n",
        "\n",
        "  '''\n",
        "  Function for comparing column counts,\n",
        "  used to examine two columns that are likely to be the same data but spread over 2 columns\n",
        "  due to changes in data format\n",
        "\n",
        "  Args:\n",
        "    col1(pandas.series): The first column of interest\n",
        "    col2(pandas.series): The second column of interest\n",
        "\n",
        "  Returns:\n",
        "    None\n",
        "\n",
        "  Prints:\n",
        "    Prints out counts of col1 and col2 in dataframe that are NaN values, as well as\n",
        "    the count of non-NaN values.\n",
        "\n",
        "  '''\n",
        "\n",
        "  column1_count = col1.notna().sum()\n",
        "  column2_count = col2.notna().sum()\n",
        "\n",
        "  column1_NaN_count = col1.isna().sum()\n",
        "  column2_NaN_count = col2.isna().sum()\n",
        "\n",
        "\n",
        "\n",
        "  print(f'Rows with a column 1 entry: {column1_count}\\n')\n",
        "  print(f'Rows with a column 2 entry: {column2_count}\\n')\n",
        "\n",
        "  print(f'Rows missing a column 1 entry: {column1_NaN_count}\\n')\n",
        "  print(f'Rows missing a column 2 entry: {column2_NaN_count}\\n')\n",
        "\n",
        "\n",
        "  return None"
      ]
    },
    {
      "cell_type": "code",
      "execution_count": 9,
      "metadata": {
        "colab": {
          "base_uri": "https://localhost:8080/"
        },
        "id": "gKDO40nU-AUy",
        "outputId": "6613e823-a7bd-4875-e9d1-9021719b2f47"
      },
      "outputs": [
        {
          "name": "stdout",
          "output_type": "stream",
          "text": [
            "Rows with a column 1 entry: 10586532\n",
            "\n",
            "Rows with a column 2 entry: 19727277\n",
            "\n",
            "Rows missing a column 1 entry: 19727277\n",
            "\n",
            "Rows missing a column 2 entry: 10586532\n",
            "\n"
          ]
        }
      ],
      "source": [
        "#let's examine the number and rental id columns\n",
        "check_counterparts(df['Number'], df['Rental Id'])"
      ]
    },
    {
      "cell_type": "markdown",
      "metadata": {
        "id": "74kiH_S7mVzf"
      },
      "source": [
        "As observed, it appears this suspicion is correct. It now makes sense to rectify this by unifying both columns into a singular \"Number ID\" column to avoid difficulties later."
      ]
    },
    {
      "cell_type": "code",
      "execution_count": 10,
      "metadata": {
        "colab": {
          "base_uri": "https://localhost:8080/"
        },
        "id": "Ta3ilRTVLulK",
        "outputId": "8f67d25c-dfce-4c9b-e675-2ec490323947"
      },
      "outputs": [
        {
          "data": {
            "text/plain": [
              "True"
            ]
          },
          "execution_count": 10,
          "metadata": {},
          "output_type": "execute_result"
        }
      ],
      "source": [
        "#creating new number id column, using rental id and number\n",
        "df['Number ID'] = df['Rental Id'].combine_first(df['Number'])\n",
        "\n",
        "#checking we have a value for each row to confirm\n",
        "df['Number ID'].shape[0] == df.shape[0]"
      ]
    },
    {
      "cell_type": "code",
      "execution_count": 11,
      "metadata": {
        "id": "oYEeLlY3hUtU"
      },
      "outputs": [],
      "source": [
        "#now we can drop rental id and number\n",
        "df.drop(['Rental Id', 'Number'], axis=1, inplace=True)"
      ]
    },
    {
      "cell_type": "code",
      "execution_count": 12,
      "metadata": {
        "colab": {
          "base_uri": "https://localhost:8080/"
        },
        "id": "LdjygFoQhgY-",
        "outputId": "6e6a6b5b-92b6-46be-e8d3-581f37bf400a"
      },
      "outputs": [
        {
          "data": {
            "text/plain": [
              "Duration                       float64\n",
              "Bike Id                        float64\n",
              "End Date                datetime64[ns]\n",
              "EndStation Id                  float64\n",
              "EndStation Name                 object\n",
              "Start Date              datetime64[ns]\n",
              "StartStation Id                float64\n",
              "StartStation Name               object\n",
              "Start date              datetime64[ns]\n",
              "Start station number            object\n",
              "Start station                   object\n",
              "End date                datetime64[ns]\n",
              "End station number              object\n",
              "End station                     object\n",
              "Bike number                    float64\n",
              "Bike model                      object\n",
              "Total duration                  object\n",
              "Total duration (ms)            float64\n",
              "Number ID                      float64\n",
              "dtype: object"
            ]
          },
          "execution_count": 12,
          "metadata": {},
          "output_type": "execute_result"
        }
      ],
      "source": [
        "df.dtypes"
      ]
    },
    {
      "cell_type": "markdown",
      "metadata": {
        "id": "Hl2s6SM9iz13"
      },
      "source": [
        "Next, something should be done about the conflicting start and end dates, maybe we combine them in similar fashion to the rental id and number:"
      ]
    },
    {
      "cell_type": "code",
      "execution_count": 13,
      "metadata": {
        "colab": {
          "base_uri": "https://localhost:8080/"
        },
        "id": "gt-xgTwJlYRN",
        "outputId": "a939733d-759e-4ce6-99d1-cad5d4f61252"
      },
      "outputs": [
        {
          "name": "stdout",
          "output_type": "stream",
          "text": [
            "Rows with a column 1 entry: 19727277\n",
            "\n",
            "Rows with a column 2 entry: 10586532\n",
            "\n",
            "Rows missing a column 1 entry: 10586532\n",
            "\n",
            "Rows missing a column 2 entry: 19727277\n",
            "\n",
            "None\n",
            "Rows with a column 1 entry: 19727277\n",
            "\n",
            "Rows with a column 2 entry: 10586532\n",
            "\n",
            "Rows missing a column 1 entry: 10586532\n",
            "\n",
            "Rows missing a column 2 entry: 19727277\n",
            "\n",
            "None\n"
          ]
        }
      ],
      "source": [
        "print(check_counterparts(df['Start Date'], df['Start date']))\n",
        "print(check_counterparts(df['End Date'], df['End date']))"
      ]
    },
    {
      "cell_type": "markdown",
      "metadata": {
        "id": "uPxkFd-P0V-N"
      },
      "source": [
        "Again, seems like it is the case with these dates that some rows changed to a different format similar to the number and rental id dilemma. Time to convert in similar fashion into a singular column, and drop the two redundant columns as a result"
      ]
    },
    {
      "cell_type": "code",
      "execution_count": 15,
      "metadata": {
        "colab": {
          "base_uri": "https://localhost:8080/"
        },
        "id": "I-XfqBF30qVl",
        "outputId": "57186954-2ebc-47a9-b10e-39c1e7a1abda"
      },
      "outputs": [
        {
          "data": {
            "text/plain": [
              "True"
            ]
          },
          "execution_count": 15,
          "metadata": {},
          "output_type": "execute_result"
        }
      ],
      "source": [
        "#creating new number id column, using rental id and number\n",
        "df['Start'] = df['Start Date'].combine_first(df['Start date'])\n",
        "df['End'] = df['End Date'].combine_first(df['End date'])\n",
        "\n",
        "\n",
        "#checking we have a value for each row to confirm\n",
        "df['Start'].shape[0] == df.shape[0] == df['End'].shape[0]"
      ]
    },
    {
      "cell_type": "code",
      "execution_count": 16,
      "metadata": {
        "id": "1aPjIW8s1BtK"
      },
      "outputs": [],
      "source": [
        "#now we can drop rental id and number\n",
        "df.drop(['Start Date', 'End Date', 'Start date', 'End date'], axis=1, inplace=True)"
      ]
    },
    {
      "cell_type": "code",
      "execution_count": 17,
      "metadata": {
        "colab": {
          "base_uri": "https://localhost:8080/"
        },
        "id": "iqGk3fCh1KhQ",
        "outputId": "eda47a86-bf36-42f6-88cf-ce4dc9970dbd"
      },
      "outputs": [
        {
          "data": {
            "text/plain": [
              "Duration                       float64\n",
              "Bike Id                        float64\n",
              "EndStation Id                  float64\n",
              "EndStation Name                 object\n",
              "StartStation Id                float64\n",
              "StartStation Name               object\n",
              "Start station number            object\n",
              "Start station                   object\n",
              "End station number              object\n",
              "End station                     object\n",
              "Bike number                    float64\n",
              "Bike model                      object\n",
              "Total duration                  object\n",
              "Total duration (ms)            float64\n",
              "Number ID                      float64\n",
              "Start                   datetime64[ns]\n",
              "End                     datetime64[ns]\n",
              "dtype: object"
            ]
          },
          "execution_count": 17,
          "metadata": {},
          "output_type": "execute_result"
        }
      ],
      "source": [
        "df.dtypes"
      ]
    },
    {
      "cell_type": "markdown",
      "metadata": {
        "id": "jKfOrvu91bTL"
      },
      "source": [
        "It also seems that there are a few more intertwined fields:\n",
        "\n",
        "\n",
        "*   EndStation Name and End station\n",
        "*   EndStation Id and End station number\n",
        "\n",
        "*   StartStation Name and Start station\n",
        "*   StartStation Id and Start station number\n",
        "\n",
        "We should do similar for these fields, then it appears there are no more conflicts, but we will review the columns further to ensure.\n",
        "\n",
        "\n",
        "\n"
      ]
    },
    {
      "cell_type": "code",
      "execution_count": 23,
      "metadata": {
        "colab": {
          "base_uri": "https://localhost:8080/"
        },
        "id": "x-leJG3K32H2",
        "outputId": "f1483cdd-584b-4ed3-c747-fc28c5946310"
      },
      "outputs": [
        {
          "name": "stdout",
          "output_type": "stream",
          "text": [
            "Rows with a column 1 entry: 19727277\n",
            "\n",
            "Rows with a column 2 entry: 10586532\n",
            "\n",
            "Rows missing a column 1 entry: 10586532\n",
            "\n",
            "Rows missing a column 2 entry: 19727277\n",
            "\n"
          ]
        }
      ],
      "source": [
        "check_counterparts(df['EndStation Name'],df['End station'])"
      ]
    },
    {
      "cell_type": "code",
      "execution_count": 25,
      "metadata": {
        "colab": {
          "base_uri": "https://localhost:8080/"
        },
        "id": "HN8G_ePX4aoL",
        "outputId": "23240f8b-6a9f-479e-f918-a44afe4acc8e"
      },
      "outputs": [
        {
          "name": "stdout",
          "output_type": "stream",
          "text": [
            "Rows with a column 1 entry: 19415133\n",
            "\n",
            "Rows with a column 2 entry: 10586532\n",
            "\n",
            "Rows missing a column 1 entry: 10898676\n",
            "\n",
            "Rows missing a column 2 entry: 19727277\n",
            "\n"
          ]
        }
      ],
      "source": [
        "check_counterparts(df['EndStation Id'], df['End station number'])"
      ]
    },
    {
      "cell_type": "code",
      "execution_count": 24,
      "metadata": {
        "colab": {
          "base_uri": "https://localhost:8080/"
        },
        "id": "Y2zmcbje4Fc1",
        "outputId": "63a1a31a-b4d3-4062-b09d-0247122bcd24"
      },
      "outputs": [
        {
          "name": "stdout",
          "output_type": "stream",
          "text": [
            "Rows with a column 1 entry: 19727277\n",
            "\n",
            "Rows with a column 2 entry: 10586532\n",
            "\n",
            "Rows missing a column 1 entry: 10586532\n",
            "\n",
            "Rows missing a column 2 entry: 19727277\n",
            "\n"
          ]
        }
      ],
      "source": [
        "check_counterparts(df['StartStation Name'], df['Start station'])"
      ]
    },
    {
      "cell_type": "code",
      "execution_count": 26,
      "metadata": {
        "colab": {
          "base_uri": "https://localhost:8080/"
        },
        "id": "7QqE9ALX4cYr",
        "outputId": "35e2fc6a-c458-49da-af10-3e83fc0087ca"
      },
      "outputs": [
        {
          "name": "stdout",
          "output_type": "stream",
          "text": [
            "Rows with a column 1 entry: 19727277\n",
            "\n",
            "Rows with a column 2 entry: 10586532\n",
            "\n",
            "Rows missing a column 1 entry: 10586532\n",
            "\n",
            "Rows missing a column 2 entry: 19727277\n",
            "\n"
          ]
        }
      ],
      "source": [
        "check_counterparts(df['StartStation Id'], df['Start station number'])"
      ]
    },
    {
      "cell_type": "code",
      "execution_count": 35,
      "metadata": {
        "colab": {
          "base_uri": "https://localhost:8080/"
        },
        "id": "sWfr2aa-7o7k",
        "outputId": "986fddc9-feed-4b75-f81d-2269000d7c71"
      },
      "outputs": [
        {
          "name": "stdout",
          "output_type": "stream",
          "text": [
            "Rows with a column 1 entry: 19727277\n",
            "\n",
            "Rows with a column 2 entry: 10586532\n",
            "\n",
            "Rows missing a column 1 entry: 10586532\n",
            "\n",
            "Rows missing a column 2 entry: 19727277\n",
            "\n"
          ]
        }
      ],
      "source": [
        "check_counterparts(df['StartStation Name'], df['Start station'])"
      ]
    },
    {
      "cell_type": "code",
      "execution_count": 36,
      "metadata": {
        "colab": {
          "base_uri": "https://localhost:8080/"
        },
        "id": "U6rRT5Lz7yFQ",
        "outputId": "5ce30764-cd3f-4cd7-a08b-c0d5c365ea86"
      },
      "outputs": [
        {
          "name": "stdout",
          "output_type": "stream",
          "text": [
            "Rows with a column 1 entry: 19727277\n",
            "\n",
            "Rows with a column 2 entry: 10586532\n",
            "\n",
            "Rows missing a column 1 entry: 10586532\n",
            "\n",
            "Rows missing a column 2 entry: 19727277\n",
            "\n"
          ]
        }
      ],
      "source": [
        "check_counterparts(df['EndStation Name'], df['End station'])"
      ]
    },
    {
      "cell_type": "markdown",
      "metadata": {
        "id": "zNmorceO5Jxp"
      },
      "source": [
        "Suspicions largely confirmed, it is important to note after inspecting dtypes earlier:\n",
        "\n",
        "1.   The Start/End station Id columns use float64, but the Start/End station number columns use an object datatype, this can be ammended.\n",
        "2.   It appears Endstation Id is missing some entries, this will be explored further in EDA and model application, but one immediate thought is that the journeys failed to be logged at destination for numerous reasons.\n",
        "\n",
        "\n"
      ]
    },
    {
      "cell_type": "code",
      "execution_count": 28,
      "metadata": {
        "id": "rYvSuY2w5-M0"
      },
      "outputs": [],
      "source": [
        "#transforming to numeric, using .to_numeric to handle any problematic rows\n",
        "df['Start station number'] = pd.to_numeric(df['Start station number'], errors='coerce')\n",
        "df['End station number'] = pd.to_numeric(df['End station number'], errors='coerce')\n",
        "\n",
        "#creating new number id column\n",
        "df['Start station code'] = df['StartStation Id'].combine_first(df['Start station number'])\n",
        "df['End station code'] = df['EndStation Id'].combine_first(df['End station number'])\n",
        "\n",
        "#creating new station name column\n",
        "df['Start Station'] = df['StartStation Name'].combine_first(df['Start station'])\n",
        "df['End Station'] = df['EndStation Name'].combine_first(df['End station'])"
      ]
    },
    {
      "cell_type": "code",
      "execution_count": 33,
      "metadata": {
        "id": "I_ZbdTh568Rz"
      },
      "outputs": [],
      "source": [
        "#dropping old columns\n",
        "df.drop(['StartStation Id',\n",
        "         'EndStation Id',\n",
        "         'Start station number',\n",
        "         'End station number',\n",
        "         'StartStation Name',\n",
        "         'EndStation Name',\n",
        "         'Start station',\n",
        "         'End station'],\n",
        "         axis=1,\n",
        "         inplace=True)"
      ]
    },
    {
      "cell_type": "code",
      "execution_count": 40,
      "metadata": {
        "colab": {
          "base_uri": "https://localhost:8080/"
        },
        "id": "EOfFpVKb8VTL",
        "outputId": "c852efc4-6daf-4b8e-df70-a0bc032b584a"
      },
      "outputs": [
        {
          "data": {
            "text/plain": [
              "Duration                      float64\n",
              "Bike Id                       float64\n",
              "Bike number                   float64\n",
              "Bike model                     object\n",
              "Total duration                 object\n",
              "Total duration (ms)           float64\n",
              "Number ID                     float64\n",
              "Start                  datetime64[ns]\n",
              "End                    datetime64[ns]\n",
              "Start station code            float64\n",
              "End station code              float64\n",
              "Start Station                  object\n",
              "End Station                    object\n",
              "dtype: object"
            ]
          },
          "execution_count": 40,
          "metadata": {},
          "output_type": "execute_result"
        }
      ],
      "source": [
        "#final check of datatypes\n",
        "df.dtypes"
      ]
    },
    {
      "cell_type": "markdown",
      "metadata": {
        "id": "fBckeUDC8iUd"
      },
      "source": [
        "The dataframe has now been preprocessed appropriately, ready for EDA and feature engineering in a separate notebook."
      ]
    },
    {
      "cell_type": "code",
      "execution_count": 42,
      "metadata": {
        "id": "k5hx1Cr58nJ3"
      },
      "outputs": [],
      "source": [
        "#saving to csv\n",
        "df.to_csv('/content/drive/MyDrive/processed_cycling.csv', index=False)"
      ]
    }
  ],
  "metadata": {
    "colab": {
      "machine_shape": "hm",
      "provenance": []
    },
    "kernelspec": {
      "display_name": "Python 3",
      "name": "python3"
    },
    "language_info": {
      "name": "python"
    }
  },
  "nbformat": 4,
  "nbformat_minor": 0
}
